{
 "cells": [
  {
   "cell_type": "code",
   "execution_count": 16,
   "id": "5bfe5aae-0541-4bd2-b49b-482ffcfd14b2",
   "metadata": {},
   "outputs": [
    {
     "name": "stdout",
     "output_type": "stream",
     "text": [
      "data_path = /home/sohithvishnu/Documents/AI_Project/habitat-sim/data\n"
     ]
    }
   ],
   "source": [
    "import math\n",
    "import os\n",
    "import random\n",
    "\n",
    "import git\n",
    "import imageio\n",
    "import magnum as mn\n",
    "import numpy as np\n",
    "\n",
    "%matplotlib inline\n",
    "from matplotlib import pyplot as plt\n",
    "\n",
    "# function to display the topdown map\n",
    "from PIL import Image\n",
    "\n",
    "import habitat_sim\n",
    "from habitat_sim.utils import common as utils\n",
    "from habitat_sim.utils import viz_utils as vut\n",
    "\n",
    "repo = git.Repo(\".\", search_parent_directories=True)\n",
    "dir_path = repo.working_tree_dir\n",
    "data_path = os.path.join(dir_path, \"data\")\n",
    "print(f\"data_path = {data_path}\")\n",
    "# @markdown Optionally configure the save path for video output:\n",
    "output_directory = os.path.join(\n",
    "    dir_path, \"testing_multi_agent/Output\"\n",
    ")  # @param {type:\"string\"}\n",
    "output_path = os.path.join(dir_path, output_directory)\n",
    "if not os.path.exists(output_path):\n",
    "    os.mkdir(output_path)"
   ]
  },
  {
   "cell_type": "code",
   "execution_count": 17,
   "id": "d16a7269-f67a-4cec-816b-feb5f2c26ba9",
   "metadata": {},
   "outputs": [],
   "source": [
    "# @title Define Observation Display Utility Function { display-mode: \"form\" }\n",
    "\n",
    "# @markdown A convenient function that displays sensor observations with matplotlib.\n",
    "\n",
    "# @markdown (double click to see the code)\n",
    "\n",
    "\n",
    "# Change to do something like this maybe: https://stackoverflow.com/a/41432704\n",
    "def display_sample(rgb_obs, semantic_obs=np.array([]), depth_obs=np.array([])):\n",
    "    from habitat_sim.utils.common import d3_40_colors_rgb\n",
    "\n",
    "    rgb_img = Image.fromarray(rgb_obs, mode=\"RGBA\")\n",
    "\n",
    "    arr = [rgb_img]\n",
    "    titles = [\"rgb\"]\n",
    "    if semantic_obs.size != 0:\n",
    "        semantic_img = Image.new(\"P\", (semantic_obs.shape[1], semantic_obs.shape[0]))\n",
    "        semantic_img.putpalette(d3_40_colors_rgb.flatten())\n",
    "        semantic_img.putdata((semantic_obs.flatten() % 40).astype(np.uint8))\n",
    "        semantic_img = semantic_img.convert(\"RGBA\")\n",
    "        arr.append(semantic_img)\n",
    "        titles.append(\"semantic\")\n",
    "\n",
    "    if depth_obs.size != 0:\n",
    "        depth_img = Image.fromarray((depth_obs / 10 * 255).astype(np.uint8), mode=\"L\")\n",
    "        arr.append(depth_img)\n",
    "        titles.append(\"depth\")\n",
    "\n",
    "    plt.figure(figsize=(12, 8))\n",
    "    for i, data in enumerate(arr):\n",
    "        ax = plt.subplot(1, 3, i + 1)\n",
    "        ax.axis(\"off\")\n",
    "        ax.set_title(titles[i])\n",
    "        plt.imshow(data)\n",
    "    plt.show(block=False)\n",
    "\n",
    "\n",
    "if __name__ == \"__main__\":\n",
    "    import argparse\n",
    "\n",
    "    parser = argparse.ArgumentParser()\n",
    "    parser.add_argument(\"--no-display\", dest=\"display\", action=\"store_false\")\n",
    "    parser.add_argument(\"--no-make-video\", dest=\"make_video\", action=\"store_false\")\n",
    "    parser.set_defaults(show_video=True, make_video=True)\n",
    "    args, _ = parser.parse_known_args()\n",
    "    show_video = args.display\n",
    "    display = args.display\n",
    "    do_make_video = args.make_video\n",
    "else:\n",
    "    show_video = False\n",
    "    do_make_video = False\n",
    "    display = False\n",
    "\n",
    "# import the maps module alone for topdown mapping\n",
    "if display:\n",
    "    from habitat.utils.visualizations import maps"
   ]
  },
  {
   "cell_type": "code",
   "execution_count": 25,
   "id": "2a225884-a86e-47cb-95b8-ef73ad04006b",
   "metadata": {},
   "outputs": [],
   "source": [
    "# This is the scene we are going to load.\n",
    "# we support a variety of mesh formats, such as .glb, .gltf, .obj, .ply\n",
    "test_scene = os.path.join(\n",
    "    data_path, \"Custom_maps/test234.obj\"\n",
    ")\n",
    "\n",
    "sim_settings = {\n",
    "    \"scene\": test_scene,  # Scene path\n",
    "    \"default_agent\": 0,  # Index of the default agent\n",
    "    \"sensor_height\": 1.5,  # Height of sensors in meters, relative to the agent\n",
    "    \"width\": 256,  # Spatial resolution of the observations\n",
    "    \"height\": 256,\n",
    "}"
   ]
  },
  {
   "cell_type": "code",
   "execution_count": 26,
   "id": "f7661e4e-cc5f-4d66-a1a2-41c1cb6e6eef",
   "metadata": {},
   "outputs": [],
   "source": [
    "# This function generates a config for the simulator.\n",
    "# It contains two parts:\n",
    "# one for the simulator backend\n",
    "# one for the agent, where you can attach a bunch of sensors\n",
    "def make_simple_cfg(settings):\n",
    "    # simulator backend\n",
    "    sim_cfg = habitat_sim.SimulatorConfiguration()\n",
    "    sim_cfg.scene_id = settings[\"scene\"]\n",
    "\n",
    "    # agent\n",
    "    agent_cfg = habitat_sim.agent.AgentConfiguration()\n",
    "\n",
    "    # In the 1st example, we attach only one sensor,\n",
    "    # a RGB visual sensor, to the agent\n",
    "    rgb_sensor_spec = habitat_sim.CameraSensorSpec()\n",
    "    rgb_sensor_spec.uuid = \"color_sensor\"\n",
    "    rgb_sensor_spec.sensor_type = habitat_sim.SensorType.COLOR\n",
    "    rgb_sensor_spec.resolution = [settings[\"height\"], settings[\"width\"]]\n",
    "    rgb_sensor_spec.position = [0.0, settings[\"sensor_height\"], 0.0]\n",
    "\n",
    "    agent_cfg.sensor_specifications = [rgb_sensor_spec]\n",
    "\n",
    "    return habitat_sim.Configuration(sim_cfg, [agent_cfg])\n",
    "\n",
    "\n",
    "cfg = make_simple_cfg(sim_settings)"
   ]
  },
  {
   "cell_type": "code",
   "execution_count": 27,
   "id": "71f07a97-4a6a-45e3-92ce-a05f69c334e2",
   "metadata": {},
   "outputs": [
    {
     "name": "stderr",
     "output_type": "stream",
     "text": [
      "PluginManager::Manager: duplicate static plugin StbImageImporter, ignoring\n",
      "PluginManager::Manager: duplicate static plugin GltfImporter, ignoring\n"
     ]
    },
    {
     "name": "stdout",
     "output_type": "stream",
     "text": [
      "Renderer: NVIDIA GeForce RTX 3060 Laptop GPU/PCIe/SSE2 by NVIDIA Corporation\n",
      "OpenGL version: 4.6.0 NVIDIA 560.35.03\n",
      "Using optional features:\n",
      "    GL_ARB_vertex_array_object\n",
      "    GL_ARB_separate_shader_objects\n",
      "    GL_ARB_robustness\n",
      "    GL_ARB_texture_storage\n",
      "    GL_ARB_texture_view\n",
      "    GL_ARB_framebuffer_no_attachments\n",
      "    GL_ARB_invalidate_subdata\n",
      "    GL_ARB_texture_storage_multisample\n",
      "    GL_ARB_multi_bind\n",
      "    GL_ARB_direct_state_access\n",
      "    GL_ARB_get_texture_sub_image\n",
      "    GL_ARB_texture_filter_anisotropic\n",
      "    GL_KHR_debug\n",
      "    GL_KHR_parallel_shader_compile\n",
      "    GL_NV_depth_buffer_float\n",
      "Using driver workarounds:\n",
      "    no-forward-compatible-core-context\n",
      "    nv-egl-incorrect-gl11-function-pointers\n",
      "    no-layout-qualifiers-on-old-glsl\n",
      "    nv-zero-context-profile-mask\n",
      "    nv-implementation-color-read-format-dsa-broken\n",
      "    nv-cubemap-inconsistent-compressed-image-size\n",
      "    nv-cubemap-broken-full-compressed-image-query\n",
      "    nv-compressed-block-size-in-bits\n"
     ]
    },
    {
     "name": "stderr",
     "output_type": "stream",
     "text": [
      "PluginManager::Manager: duplicate static plugin BasisImporter, ignoring\n",
      "PluginManager::Manager: duplicate static plugin AssimpImporter, ignoring\n",
      "PluginManager::Manager: duplicate static plugin AnySceneImporter, ignoring\n",
      "PluginManager::Manager: duplicate static plugin AnyImageImporter, ignoring\n",
      "[20:30:28:893731]:[Warning]:[Metadata] SceneDatasetAttributes.cpp(107)::addNewSceneInstanceToDataset : Dataset : 'default' : Lighting Layout Attributes 'no_lights' specified in Scene Attributes but does not exist in dataset, so creating default.\n",
      "[20:30:28:893784]:[Warning]:[Scene] SemanticScene.h(328)::checkFileExists : ::loadSemanticSceneDescriptor: File/home/sohithvishnu/Documents/AI_Project/habitat-sim/data/Custom_maps/test234.scndoes not exist.  Aborting load.\n",
      "[20:30:28:893799]:[Warning]:[Scene] SemanticScene.cpp(121)::loadSemanticSceneDescriptor : SSD File Naming Issue! Neither SemanticAttributes-provided name : `/home/sohithvishnu/Documents/AI_Project/habitat-sim/data/Custom_maps/test234.scn` nor constructed filename : `/home/sohithvishnu/Documents/AI_Project/habitat-sim/data/Custom_maps/info_semantic.json` exist on disk.\n",
      "[20:30:28:893810]:[Error]:[Scene] SemanticScene.cpp(137)::loadSemanticSceneDescriptor : SSD Load Failure! File with SemanticAttributes-provided name `/home/sohithvishnu/Documents/AI_Project/habitat-sim/data/Custom_maps/test234.scn` exists but failed to load.\n",
      "Trade::AssimpImporter::material(): white ambient detected, forcing back to black\n",
      "Trade::AssimpImporter::material(): white ambient detected, forcing back to black\n",
      "Trade::AssimpImporter::material(): white ambient detected, forcing back to black\n",
      "Trade::AssimpImporter::material(): white ambient detected, forcing back to black\n",
      "Trade::AssimpImporter::material(): white ambient detected, forcing back to black\n",
      "Trade::AssimpImporter::material(): white ambient detected, forcing back to black\n",
      "Trade::AssimpImporter::material(): white ambient detected, forcing back to black\n",
      "Trade::AssimpImporter::material(): white ambient detected, forcing back to black\n",
      "Trade::AssimpImporter::material(): white ambient detected, forcing back to black\n",
      "[20:30:29:066640]:[Warning]:[Sim] Simulator.cpp(594)::instanceStageForSceneAttributes : The active scene does not contain semantic annotations : activeSemanticSceneID_ = 0\n"
     ]
    }
   ],
   "source": [
    "try:  # Needed to handle out of order cell run in Jupyter\n",
    "    sim.close()\n",
    "except NameError:\n",
    "    pass\n",
    "sim = habitat_sim.Simulator(cfg)\n"
   ]
  },
  {
   "cell_type": "code",
   "execution_count": 28,
   "id": "9d4af769-80aa-46b7-810a-56531d2e05b1",
   "metadata": {},
   "outputs": [
    {
     "name": "stdout",
     "output_type": "stream",
     "text": [
      "Discrete action space:  ['move_forward', 'turn_left', 'turn_right']\n",
      "Agent 0: performed action: move_forward, new position: [ 0.    0.   -0.25]\n"
     ]
    },
    {
     "data": {
      "image/png": "[encoded data removed]",
      "text/plain": [
       "<Figure size 1200x800 with 1 Axes>"
      ]
     },
     "metadata": {},
     "output_type": "display_data"
    },
    {
     "name": "stdout",
     "output_type": "stream",
     "text": [
      "Agent 0: performed action: turn_right, new position: [ 0.    0.   -0.25]\n"
     ]
    },
    {
     "data": {
      "image/png": "[encoded data removed]",
      "text/plain": [
       "<Figure size 1200x800 with 1 Axes>"
      ]
     },
     "metadata": {},
     "output_type": "display_data"
    },
    {
     "name": "stdout",
     "output_type": "stream",
     "text": [
      "Agent 0: performed action: move_forward, new position: [ 0.04341204  0.         -0.49620193]\n"
     ]
    },
    {
     "data": {
      "image/png": "[encoded data removed]",
      "text/plain": [
       "<Figure size 1200x800 with 1 Axes>"
      ]
     },
     "metadata": {},
     "output_type": "display_data"
    },
    {
     "name": "stdout",
     "output_type": "stream",
     "text": [
      "Agent 1: performed action: move_forward, new position: [ 2.    0.   -0.25]\n"
     ]
    },
    {
     "data": {
      "image/png": "[encoded data removed]",
      "text/plain": [
       "<Figure size 1200x800 with 1 Axes>"
      ]
     },
     "metadata": {},
     "output_type": "display_data"
    },
    {
     "name": "stdout",
     "output_type": "stream",
     "text": [
      "Agent 1: performed action: turn_left, new position: [ 2.    0.   -0.25]\n"
     ]
    },
    {
     "data": {
      "image/png": "[encoded data removed]",
      "text/plain": [
       "<Figure size 1200x800 with 1 Axes>"
      ]
     },
     "metadata": {},
     "output_type": "display_data"
    },
    {
     "name": "stdout",
     "output_type": "stream",
     "text": [
      "Agent 1: performed action: move_forward, new position: [ 1.9565879   0.         -0.49620193]\n"
     ]
    },
    {
     "data": {
      "image/png": "[encoded data removed]",
      "text/plain": [
       "<Figure size 1200x800 with 1 Axes>"
      ]
     },
     "metadata": {},
     "output_type": "display_data"
    }
   ],
   "source": [
    "import habitat_sim\n",
    "import numpy as np\n",
    "\n",
    "# Assuming sim and sim_settings are already defined, with a valid config\n",
    "\n",
    "# Get the discrete actions for the agent (move_forward, turn_left, turn_right)\n",
    "action_names = list(cfg.agents[sim_settings[\"default_agent\"]].action_space.keys())\n",
    "print(\"Discrete action space: \", action_names)\n",
    "\n",
    "# Number of agents\n",
    "num_agents = 2\n",
    "\n",
    "# Initialize the agents' states with different positions\n",
    "starting_positions = [\n",
    "    np.array([0.0, 0.0, 0.0]),  # Starting position for agent 0\n",
    "    np.array([2.0, 0.0, 0.0])   # Starting position for agent 1\n",
    "]\n",
    "\n",
    "# Initialize and store states for both agents\n",
    "agents_states = []\n",
    "for i in range(num_agents):\n",
    "    agent = sim.initialize_agent(sim_settings[\"default_agent\"])\n",
    "    agent_state = habitat_sim.AgentState()\n",
    "    agent_state.position = starting_positions[i]\n",
    "    agent.set_state(agent_state)  # Set the initial state of the agent\n",
    "    agents_states.append(agent_state)  # Store the agent's state\n",
    "\n",
    "# Define different actions for each agent\n",
    "actions_per_agent = [\n",
    "    [\"move_forward\", \"turn_right\", \"move_forward\"],  # Actions for agent 0\n",
    "    [\"move_forward\", \"turn_left\", \"move_forward\"],   # Actions for agent 1\n",
    "]\n",
    "\n",
    "# Function to execute actions for each agent\n",
    "def navigate_and_see(agent_index, action):\n",
    "    if action in action_names:\n",
    "        # Restore the agent's state before performing the action\n",
    "        sim.initialize_agent(sim_settings[\"default_agent\"])\n",
    "        agent_state = agents_states[agent_index]\n",
    "        agent = sim.initialize_agent(sim_settings[\"default_agent\"])\n",
    "        agent.set_state(agent_state)\n",
    "        \n",
    "        # Perform the action and get the observations\n",
    "        observations = sim.step(action)  # This simulates the environment's response to the action\n",
    "        \n",
    "        # Store the updated agent state after the action\n",
    "        agent_state = agent.get_state()\n",
    "        agents_states[agent_index] = agent_state\n",
    "        \n",
    "        # Output the action and state information\n",
    "        print(f\"Agent {agent_index}: performed action: {action}, new position: {agent_state.position}\")\n",
    "\n",
    "        # If a display is enabled, visualize the observations\n",
    "        if display:\n",
    "            display_sample(observations[\"color_sensor\"])\n",
    "\n",
    "# Loop through each agent and perform its respective actions\n",
    "for i in range(num_agents):\n",
    "    for action in actions_per_agent[i]:\n",
    "        navigate_and_see(i, action)\n"
   ]
  },
  {
   "cell_type": "code",
   "execution_count": 32,
   "id": "e542b2a3-7e4e-4661-a318-109359569fcb",
   "metadata": {},
   "outputs": [
    {
     "ename": "MemoryError",
     "evalue": "std::bad_alloc",
     "output_type": "error",
     "traceback": [
      "\u001b[0;31m---------------------------------------------------------------------------\u001b[0m",
      "\u001b[0;31mMemoryError\u001b[0m                               Traceback (most recent call last)",
      "Cell \u001b[0;32mIn[32], line 1\u001b[0m\n\u001b[0;32m----> 1\u001b[0m topdownmap_sim \u001b[38;5;241m=\u001b[39m \u001b[43mmaps\u001b[49m\u001b[38;5;241;43m.\u001b[39;49m\u001b[43mget_topdown_map_from_sim\u001b[49m\u001b[43m(\u001b[49m\n\u001b[1;32m      2\u001b[0m \u001b[43m            \u001b[49m\u001b[43msim\u001b[49m\u001b[43m,\u001b[49m\u001b[43m \u001b[49m\u001b[43mmap_resolution\u001b[49m\u001b[38;5;241;43m=\u001b[39;49m\u001b[38;5;241;43m512\u001b[39;49m\u001b[43m,\u001b[49m\u001b[43m \u001b[49m\u001b[43mmeters_per_pixel\u001b[49m\u001b[38;5;241;43m=\u001b[39;49m\u001b[38;5;241;43m0.5\u001b[39;49m\n\u001b[1;32m      3\u001b[0m \u001b[43m        \u001b[49m\u001b[43m)\u001b[49m\n\u001b[1;32m      4\u001b[0m recolor_map \u001b[38;5;241m=\u001b[39m np\u001b[38;5;241m.\u001b[39marray(\n\u001b[1;32m      5\u001b[0m             [[\u001b[38;5;241m255\u001b[39m, \u001b[38;5;241m255\u001b[39m, \u001b[38;5;241m255\u001b[39m], [\u001b[38;5;241m128\u001b[39m, \u001b[38;5;241m128\u001b[39m, \u001b[38;5;241m128\u001b[39m], [\u001b[38;5;241m0\u001b[39m, \u001b[38;5;241m0\u001b[39m, \u001b[38;5;241m0\u001b[39m]], dtype\u001b[38;5;241m=\u001b[39mnp\u001b[38;5;241m.\u001b[39muint8\n\u001b[1;32m      6\u001b[0m         )\n\u001b[1;32m      7\u001b[0m top_down_map \u001b[38;5;241m=\u001b[39m recolor_map[topdownmap_sim]\n",
      "File \u001b[0;32m~/Documents/AI_Project/habitat-lab/habitat-lab/habitat/utils/visualizations/maps.py:340\u001b[0m, in \u001b[0;36mget_topdown_map_from_sim\u001b[0;34m(sim, map_resolution, draw_border, meters_per_pixel, agent_id)\u001b[0m\n\u001b[1;32m    328\u001b[0m \u001b[38;5;28;01mdef\u001b[39;00m \u001b[38;5;21mget_topdown_map_from_sim\u001b[39m(\n\u001b[1;32m    329\u001b[0m     sim: \u001b[38;5;124m\"\u001b[39m\u001b[38;5;124mHabitatSim\u001b[39m\u001b[38;5;124m\"\u001b[39m,\n\u001b[1;32m    330\u001b[0m     map_resolution: \u001b[38;5;28mint\u001b[39m \u001b[38;5;241m=\u001b[39m \u001b[38;5;241m1024\u001b[39m,\n\u001b[0;32m   (...)\u001b[0m\n\u001b[1;32m    333\u001b[0m     agent_id: \u001b[38;5;28mint\u001b[39m \u001b[38;5;241m=\u001b[39m \u001b[38;5;241m0\u001b[39m,\n\u001b[1;32m    334\u001b[0m ) \u001b[38;5;241m-\u001b[39m\u001b[38;5;241m>\u001b[39m np\u001b[38;5;241m.\u001b[39mndarray:\n\u001b[1;32m    335\u001b[0m \u001b[38;5;250m    \u001b[39m\u001b[38;5;124mr\u001b[39m\u001b[38;5;124;03m\"\"\"Wrapper around :py:`get_topdown_map` that retrieves that pathfinder and heigh from the current simulator\u001b[39;00m\n\u001b[1;32m    336\u001b[0m \n\u001b[1;32m    337\u001b[0m \u001b[38;5;124;03m    :param sim: Simulator instance.\u001b[39;00m\n\u001b[1;32m    338\u001b[0m \u001b[38;5;124;03m    :param agent_id: The agent ID\u001b[39;00m\n\u001b[1;32m    339\u001b[0m \u001b[38;5;124;03m    \"\"\"\u001b[39;00m\n\u001b[0;32m--> 340\u001b[0m     \u001b[38;5;28;01mreturn\u001b[39;00m \u001b[43mget_topdown_map\u001b[49m\u001b[43m(\u001b[49m\n\u001b[1;32m    341\u001b[0m \u001b[43m        \u001b[49m\u001b[43msim\u001b[49m\u001b[38;5;241;43m.\u001b[39;49m\u001b[43mpathfinder\u001b[49m\u001b[43m,\u001b[49m\n\u001b[1;32m    342\u001b[0m \u001b[43m        \u001b[49m\u001b[43msim\u001b[49m\u001b[38;5;241;43m.\u001b[39;49m\u001b[43mget_agent\u001b[49m\u001b[43m(\u001b[49m\u001b[43magent_id\u001b[49m\u001b[43m)\u001b[49m\u001b[38;5;241;43m.\u001b[39;49m\u001b[43mstate\u001b[49m\u001b[38;5;241;43m.\u001b[39;49m\u001b[43mposition\u001b[49m\u001b[43m[\u001b[49m\u001b[38;5;241;43m1\u001b[39;49m\u001b[43m]\u001b[49m\u001b[43m,\u001b[49m\n\u001b[1;32m    343\u001b[0m \u001b[43m        \u001b[49m\u001b[43mmap_resolution\u001b[49m\u001b[43m,\u001b[49m\n\u001b[1;32m    344\u001b[0m \u001b[43m        \u001b[49m\u001b[43mdraw_border\u001b[49m\u001b[43m,\u001b[49m\n\u001b[1;32m    345\u001b[0m \u001b[43m        \u001b[49m\u001b[43mmeters_per_pixel\u001b[49m\u001b[43m,\u001b[49m\n\u001b[1;32m    346\u001b[0m \u001b[43m    \u001b[49m\u001b[43m)\u001b[49m\n",
      "File \u001b[0;32m~/Documents/AI_Project/habitat-lab/habitat-lab/habitat/utils/visualizations/maps.py:317\u001b[0m, in \u001b[0;36mget_topdown_map\u001b[0;34m(pathfinder, height, map_resolution, draw_border, meters_per_pixel)\u001b[0m\n\u001b[1;32m    312\u001b[0m \u001b[38;5;28;01mif\u001b[39;00m meters_per_pixel \u001b[38;5;129;01mis\u001b[39;00m \u001b[38;5;28;01mNone\u001b[39;00m:\n\u001b[1;32m    313\u001b[0m     meters_per_pixel \u001b[38;5;241m=\u001b[39m calculate_meters_per_pixel(\n\u001b[1;32m    314\u001b[0m         map_resolution, pathfinder\u001b[38;5;241m=\u001b[39mpathfinder\n\u001b[1;32m    315\u001b[0m     )\n\u001b[0;32m--> 317\u001b[0m top_down_map \u001b[38;5;241m=\u001b[39m \u001b[43mpathfinder\u001b[49m\u001b[38;5;241;43m.\u001b[39;49m\u001b[43mget_topdown_view\u001b[49m\u001b[43m(\u001b[49m\n\u001b[1;32m    318\u001b[0m \u001b[43m    \u001b[49m\u001b[43mmeters_per_pixel\u001b[49m\u001b[38;5;241;43m=\u001b[39;49m\u001b[43mmeters_per_pixel\u001b[49m\u001b[43m,\u001b[49m\u001b[43m \u001b[49m\u001b[43mheight\u001b[49m\u001b[38;5;241;43m=\u001b[39;49m\u001b[43mheight\u001b[49m\n\u001b[1;32m    319\u001b[0m \u001b[43m\u001b[49m\u001b[43m)\u001b[49m\u001b[38;5;241m.\u001b[39mastype(np\u001b[38;5;241m.\u001b[39muint8)\n\u001b[1;32m    321\u001b[0m \u001b[38;5;66;03m# Draw border if necessary\u001b[39;00m\n\u001b[1;32m    322\u001b[0m \u001b[38;5;28;01mif\u001b[39;00m draw_border:\n",
      "\u001b[0;31mMemoryError\u001b[0m: std::bad_alloc"
     ]
    }
   ],
   "source": [
    "topdownmap_sim = maps.get_topdown_map_from_sim(\n",
    "            sim, map_resolution=512, meters_per_pixel=0.5\n",
    "        )\n",
    "recolor_map = np.array(\n",
    "            [[255, 255, 255], [128, 128, 128], [0, 0, 0]], dtype=np.uint8\n",
    "        )\n",
    "top_down_map = recolor_map[topdownmap_sim]\n",
    "plt.imshow(top_down_map)\n",
    "plt.title(\"top_down_map.png\")\n",
    "plt.show()"
   ]
  },
  {
   "cell_type": "code",
   "execution_count": 30,
   "id": "68bc298f-d242-4520-9e6f-accb9380eb2a",
   "metadata": {},
   "outputs": [
    {
     "data": {
      "text/plain": [
       "array([], shape=(0, 0), dtype=uint8)"
      ]
     },
     "execution_count": 30,
     "metadata": {},
     "output_type": "execute_result"
    }
   ],
   "source": [
    "topdownmap_sim"
   ]
  },
  {
   "cell_type": "code",
   "execution_count": 31,
   "id": "44261d32-203d-42de-a1ed-0a7f08086d17",
   "metadata": {},
   "outputs": [
    {
     "name": "stdout",
     "output_type": "stream",
     "text": [
      "Shape of topdownmap_sim: (0, 0)\n",
      "Content of topdownmap_sim: []\n"
     ]
    }
   ],
   "source": [
    "print(\"Shape of topdownmap_sim:\", topdownmap_sim.shape)\n",
    "print(\"Content of topdownmap_sim:\", topdownmap_sim)\n"
   ]
  },
  {
   "cell_type": "code",
   "execution_count": null,
   "id": "3b3573a3-6e68-4625-b6d4-d8567a1aa3a9",
   "metadata": {},
   "outputs": [],
   "source": []
  }
 ],
 "metadata": {
  "kernelspec": {
   "display_name": "Python 3 (ipykernel)",
   "language": "python",
   "name": "python3"
  },
  "language_info": {
   "codemirror_mode": {
    "name": "ipython",
    "version": 3
   },
   "file_extension": ".py",
   "mimetype": "text/x-python",
   "name": "python",
   "nbconvert_exporter": "python",
   "pygments_lexer": "ipython3",
   "version": "3.9.19"
  }
 },
 "nbformat": 4,
 "nbformat_minor": 5
}
